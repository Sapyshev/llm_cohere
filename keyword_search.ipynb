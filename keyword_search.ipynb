{
 "cells": [
  {
   "cell_type": "code",
   "execution_count": 4,
   "metadata": {},
   "outputs": [],
   "source": [
    "#!pip install cohere\n",
    "#!pip install weaviate-client"
   ]
  },
  {
   "cell_type": "code",
   "execution_count": 1,
   "metadata": {},
   "outputs": [],
   "source": [
    "import os\n",
    "from dotenv import load_dotenv, find_dotenv\n",
    "_ = load_dotenv(find_dotenv()) # read local .env file"
   ]
  },
  {
   "cell_type": "code",
   "execution_count": 2,
   "metadata": {},
   "outputs": [],
   "source": [
    "import weaviate\n",
    "auth_config = weaviate.auth.AuthApiKey(api_key='76320a90-53d8-42bc-b41d-678647c6672e')"
   ]
  },
  {
   "cell_type": "code",
   "execution_count": 3,
   "metadata": {},
   "outputs": [],
   "source": [
    "client = weaviate.Client(\n",
    "    url=\"https://cohere-demo.weaviate.network/\",\n",
    "    auth_client_secret=auth_config,\n",
    "    additional_headers={\n",
    "        \"X-Cohere-Api-Key\":'P4HAsbo4RrxSA1ilcKLvtEjBYMSqLfPHfvM1PePm',\n",
    "    }\n",
    ")"
   ]
  },
  {
   "cell_type": "code",
   "execution_count": 4,
   "metadata": {},
   "outputs": [
    {
     "data": {
      "text/plain": [
       "True"
      ]
     },
     "execution_count": 4,
     "metadata": {},
     "output_type": "execute_result"
    }
   ],
   "source": [
    "client.is_ready()"
   ]
  },
  {
   "attachments": {},
   "cell_type": "markdown",
   "metadata": {},
   "source": [
    "Keyword search"
   ]
  },
  {
   "cell_type": "code",
   "execution_count": 5,
   "metadata": {},
   "outputs": [],
   "source": [
    "def keyword_search(query,\n",
    "                   results_lang='en',\n",
    "                   properties = [\"title\",\"url\",\"text\"],\n",
    "                   num_results=3):\n",
    "\n",
    "    where_filter = {\n",
    "    \"path\": [\"lang\"],\n",
    "    \"operator\": \"Equal\",\n",
    "    \"valueString\": results_lang\n",
    "    }\n",
    "    \n",
    "    response = (\n",
    "        client.query.get(\"Articles\", properties)\n",
    "        .with_bm25(\n",
    "            query=query\n",
    "        )\n",
    "        .with_where(where_filter)\n",
    "        .with_limit(num_results)\n",
    "        .do()\n",
    "        )\n",
    "\n",
    "    result = response['data']['Get']['Articles']\n",
    "    return result"
   ]
  },
  {
   "cell_type": "code",
   "execution_count": 6,
   "metadata": {},
   "outputs": [
    {
     "name": "stdout",
     "output_type": "stream",
     "text": [
      "[{'text': 'The most active Gamergate supporters or \"Gamergaters\" said that Gamergate was a movement for ethics in games journalism, for protecting the \"gamer\" identity, and for opposing \"political correctness\" in video games and that any harassment of women was done by others not affiliated with Gamergate. They argued that the close relationships between journalists and developers demonstrated a conspiracy among reviewers to focus on progressive social issues. Some supporters pointed to what they considered disproportionate praise for games such as \"Depression Quest\" and \"Gone Home\", which feature unconventional gameplay and stories with social implications, while they viewed traditional AAA games as downplayed. False claims of the \"ethics in game journalism\" had started as early as 2012, when Geoff Keighley was accused of such unethical behavior when he was presenting information about \"Halo 4\" among advertisements for Mountain Dew and Doritos, an event called \"Doritosgate\" in the gamer culture.', 'title': 'Gamergate (harassment campaign)', 'url': 'https://en.wikipedia.org/wiki?curid=43758363'}, {'text': '\"Rolling Stone\" stated Jackson\\'s Super Bowl performance \"is far and away the most famous moment in the history of the Super Bowl halftime show\". \"PopCrush\" called the performance \"one of the most shocking moments in pop culture\" as well as a \"totally unexpected and unforgettable moment\". \"Gawker\" ranked the performance among the most recent of the \"10 Shows that Advanced Sex on Television\", commenting the set \"had all the elements of a huge story\" and \"within seconds the world searched furtively for pictures\", concluding \"it remains so ubiquitous, it\\'s impossible to look at a starburst nipple shield without thinking \"Janet Jackson\"\". \"E! Online\" ranked it among the top ten most shocking celebrity moments of the prior two decades. A study of television\\'s most impactful moments of the last 50 years conducted by Sony Electronics and the Nielsen Television Research Company ranked Jackson\\'s Super Bowl performance at #26. The incident was the only Super Bowl event on the list and the highest music and entertainment event aside from the death of Whitney Houston. TV Guide Network ranked it at #2 in a 2010 special listing the \"25 Biggest TV Blunders\". \"Complex\" stated \"It\\'s the Citizen Kane of televised nip-slips—so unexpected, and on such a large stage, that nothing else will ever come close. If Beyoncé were to whip out both breasts and put on a puppet show with them when she performs this year in New Orleans, it would rate as just the second most shocking Super Boob display. Janet\\'s strangely ornamented right nipple is a living legend, and so is Justin Timberlake\\'s terrified reaction.\" Music channel Fuse listed it as the most controversial Super Bowl halftime show, saying the \"revealing performance remains (and will forever remain) the craziest thing to ever happen at a halftime show. Almost immediately after the incident, the FCC received a flood of complaints from parents who just wanted their children to enjoy a nice, wholesome three hours of grown men inflicting damaging and long-lasting pain on each other for sport. Halftime shows would never be the same.\" Patrick Gipson of \"Bleacher Report\" ranked it as #1 in its list of the most \"Jaw Dropping Moments of the Last Decade\", stating Janet \"changed the landscape of live television forever\". Gipson explained \"It prompted a million mothers to cover their eyes, fathers and sons to jump out of their seats in shock and numerous sanctions by the Federal Communications Commission, including a US$550,000 fine against CBS. Talk about a halftime show that will be hard to top.\" The incident was also declared \"the most memorable Super Bowl halftime show in history\", as well as \"the most controversial\", adding \"you can\\'t talk about this halftime show, or any subsequent halftime show from here to eternity, without mentioning the wardrobe malfunction\".', 'title': 'Super Bowl XXXVIII halftime show controversy', 'url': 'https://en.wikipedia.org/wiki?curid=498971'}, {'text': 'West Germany (established in May 1949) was not eligible for the 1950 World Cup (the first after the war), and so all preparations were made with a view toward the 1954 matches in Bern, Switzerland. By that time Adidas\\'s football boots were considerably lighter than the ones made before the war, based on English designs. At the World Cup Adi had a secret weapon, which he revealed when West Germany made the finals against the overwhelmingly favored Hungarian team, which was undefeated since May 1950 and had defeated West Germany 8–3 in group play. Despite this defeat, West Germany made the knock-out rounds by twice defeating Turkey handily. The team defeated Yugoslavia and Austria to reach the final (a remarkable achievement), where the hope of many German fans was simply that the team \"avoid another humiliating defeat\" at the hands of the Hungarians. The day of the final began with light rain, which brightened the prospects of the West German team who called it \"\"Fritz Walter-Wetter\"\" because the team\\'s best player excelled in muddy conditions. Dassler informed Herberger before the match of his latest innovation—\"screw in studs.\" Unlike the traditional boot which had fixed leather spike studs, Dassler\\'s shoe allowed spikes of various lengths to be affixed depending on the state of the pitch. As the playing field at Wankdorf Stadium drastically deteriorated, Herberger famously announced, \"Adi, screw them on.\" The longer spikes improved the footing of West German players compared to the Hungarians whose mud-caked boots were also much heavier. The West Germans staged a come from behind upset, winning 3-2, in what became known as the \"Miracle in Bern.\" Herberger publicly praised Dassler as a key contributor to the win, and Adidas\\'s fame rose both in West Germany, where the win was considered a key post-war event in restoring German self-esteem and abroad, where in the first televised World Cup final viewers were introduced to \"the ultimate breakthrough.\"', 'title': 'Adolf Dassler', 'url': 'https://en.wikipedia.org/wiki?curid=2373164'}]\n"
     ]
    }
   ],
   "source": [
    "query = \"What is the most viewed televised event?\"\n",
    "keyword_search_results = keyword_search(query)\n",
    "print(keyword_search_results)"
   ]
  },
  {
   "cell_type": "code",
   "execution_count": 31,
   "metadata": {},
   "outputs": [],
   "source": [
    "def print_result(result):\n",
    "    \"\"\" Print results with colorful formatting \"\"\"\n",
    "    for i,item in enumerate(result):\n",
    "        print(f'item {i}')\n",
    "        for key in item.keys():\n",
    "            print(f\"{key}:{item.get(key)}\")\n",
    "            print()\n",
    "        print()"
   ]
  },
  {
   "cell_type": "code",
   "execution_count": 32,
   "metadata": {},
   "outputs": [
    {
     "name": "stdout",
     "output_type": "stream",
     "text": [
      "item 0\n",
      "text:The most active Gamergate supporters or \"Gamergaters\" said that Gamergate was a movement for ethics in games journalism, for protecting the \"gamer\" identity, and for opposing \"political correctness\" in video games and that any harassment of women was done by others not affiliated with Gamergate. They argued that the close relationships between journalists and developers demonstrated a conspiracy among reviewers to focus on progressive social issues. Some supporters pointed to what they considered disproportionate praise for games such as \"Depression Quest\" and \"Gone Home\", which feature unconventional gameplay and stories with social implications, while they viewed traditional AAA games as downplayed. False claims of the \"ethics in game journalism\" had started as early as 2012, when Geoff Keighley was accused of such unethical behavior when he was presenting information about \"Halo 4\" among advertisements for Mountain Dew and Doritos, an event called \"Doritosgate\" in the gamer culture.\n",
      "\n",
      "title:Gamergate (harassment campaign)\n",
      "\n",
      "url:https://en.wikipedia.org/wiki?curid=43758363\n",
      "\n",
      "\n",
      "item 1\n",
      "text:\"Rolling Stone\" stated Jackson's Super Bowl performance \"is far and away the most famous moment in the history of the Super Bowl halftime show\". \"PopCrush\" called the performance \"one of the most shocking moments in pop culture\" as well as a \"totally unexpected and unforgettable moment\". \"Gawker\" ranked the performance among the most recent of the \"10 Shows that Advanced Sex on Television\", commenting the set \"had all the elements of a huge story\" and \"within seconds the world searched furtively for pictures\", concluding \"it remains so ubiquitous, it's impossible to look at a starburst nipple shield without thinking \"Janet Jackson\"\". \"E! Online\" ranked it among the top ten most shocking celebrity moments of the prior two decades. A study of television's most impactful moments of the last 50 years conducted by Sony Electronics and the Nielsen Television Research Company ranked Jackson's Super Bowl performance at #26. The incident was the only Super Bowl event on the list and the highest music and entertainment event aside from the death of Whitney Houston. TV Guide Network ranked it at #2 in a 2010 special listing the \"25 Biggest TV Blunders\". \"Complex\" stated \"It's the Citizen Kane of televised nip-slips—so unexpected, and on such a large stage, that nothing else will ever come close. If Beyoncé were to whip out both breasts and put on a puppet show with them when she performs this year in New Orleans, it would rate as just the second most shocking Super Boob display. Janet's strangely ornamented right nipple is a living legend, and so is Justin Timberlake's terrified reaction.\" Music channel Fuse listed it as the most controversial Super Bowl halftime show, saying the \"revealing performance remains (and will forever remain) the craziest thing to ever happen at a halftime show. Almost immediately after the incident, the FCC received a flood of complaints from parents who just wanted their children to enjoy a nice, wholesome three hours of grown men inflicting damaging and long-lasting pain on each other for sport. Halftime shows would never be the same.\" Patrick Gipson of \"Bleacher Report\" ranked it as #1 in its list of the most \"Jaw Dropping Moments of the Last Decade\", stating Janet \"changed the landscape of live television forever\". Gipson explained \"It prompted a million mothers to cover their eyes, fathers and sons to jump out of their seats in shock and numerous sanctions by the Federal Communications Commission, including a US$550,000 fine against CBS. Talk about a halftime show that will be hard to top.\" The incident was also declared \"the most memorable Super Bowl halftime show in history\", as well as \"the most controversial\", adding \"you can't talk about this halftime show, or any subsequent halftime show from here to eternity, without mentioning the wardrobe malfunction\".\n",
      "\n",
      "title:Super Bowl XXXVIII halftime show controversy\n",
      "\n",
      "url:https://en.wikipedia.org/wiki?curid=498971\n",
      "\n",
      "\n",
      "item 2\n",
      "text:West Germany (established in May 1949) was not eligible for the 1950 World Cup (the first after the war), and so all preparations were made with a view toward the 1954 matches in Bern, Switzerland. By that time Adidas's football boots were considerably lighter than the ones made before the war, based on English designs. At the World Cup Adi had a secret weapon, which he revealed when West Germany made the finals against the overwhelmingly favored Hungarian team, which was undefeated since May 1950 and had defeated West Germany 8–3 in group play. Despite this defeat, West Germany made the knock-out rounds by twice defeating Turkey handily. The team defeated Yugoslavia and Austria to reach the final (a remarkable achievement), where the hope of many German fans was simply that the team \"avoid another humiliating defeat\" at the hands of the Hungarians. The day of the final began with light rain, which brightened the prospects of the West German team who called it \"\"Fritz Walter-Wetter\"\" because the team's best player excelled in muddy conditions. Dassler informed Herberger before the match of his latest innovation—\"screw in studs.\" Unlike the traditional boot which had fixed leather spike studs, Dassler's shoe allowed spikes of various lengths to be affixed depending on the state of the pitch. As the playing field at Wankdorf Stadium drastically deteriorated, Herberger famously announced, \"Adi, screw them on.\" The longer spikes improved the footing of West German players compared to the Hungarians whose mud-caked boots were also much heavier. The West Germans staged a come from behind upset, winning 3-2, in what became known as the \"Miracle in Bern.\" Herberger publicly praised Dassler as a key contributor to the win, and Adidas's fame rose both in West Germany, where the win was considered a key post-war event in restoring German self-esteem and abroad, where in the first televised World Cup final viewers were introduced to \"the ultimate breakthrough.\"\n",
      "\n",
      "title:Adolf Dassler\n",
      "\n",
      "url:https://en.wikipedia.org/wiki?curid=2373164\n",
      "\n",
      "\n"
     ]
    }
   ],
   "source": [
    "print_result(keyword_search_results)"
   ]
  },
  {
   "cell_type": "code",
   "execution_count": 35,
   "metadata": {},
   "outputs": [
    {
     "name": "stdout",
     "output_type": "stream",
     "text": [
      "item 0\n",
      "text:The couple appeared in the experimental Swiss film \"Borderline\" (1930). He then returned to the Savoy Theatre, in London's West End to play \"Othello\", opposite Peggy Ashcroft as Desdemona. He cited the lack of a \"racial problem\" in London as significant in his decision to move to London. Robeson was the first black actor to play Othello in Britain since Ira Aldridge. The production received mixed reviews which noted Robeson's \"highly civilized quality <nowiki>[but lacking the]</nowiki> grand style.\" Robeson stated the best way to diminish the oppression African Americans faced was for his artistic work to be an example of what \"men of my colour\" could accomplish rather than to \"be a propagandist and make speeches and write articles about what they call the Colour Question.\"\n",
      "\n",
      "title:Paul Robeson\n",
      "\n",
      "url:https://en.wikipedia.org/wiki?curid=23229\n",
      "\n",
      "\n",
      "item 1\n",
      "text:Stone's fourth studio album was written and recorded in about a week in Devon in early 2008. She said: \"It's very, very raw. It's a bunch of musicians, writers and myself, and we're just jamming, basically.\" In promotion of the album, entitled \"Colour Me Free!\", Stone played concerts throughout the UK in February and March. Originally scheduled for release in April 2009, \"Colour Me Free!\" was finally released on 20 October 2009. Stone said that her record company also fought her about the original cover of her new album, calling it \"offensive\". It was changed to simple text and no picture of Stone on the American edition. The original cover was used on the other editions worldwide. In late August 2010, it was reported that Stone had left EMI and formed her own independent record label, Stone'd Records. EMI announced in late December that they would be releasing a greatest hits album, \"The Best of Joss Stone 2003–2009\". The compilation was released on 30 September 2011.\n",
      "\n",
      "title:Joss Stone\n",
      "\n",
      "url:https://en.wikipedia.org/wiki?curid=494770\n",
      "\n",
      "\n",
      "item 2\n",
      "text:She released her fourth album, \"Colour Me Free!\", in 2009, which reached the top 10 on \"Billboard\". Stone released her fifth album, \"LP1\", in 2011, which reached the top 10 on \"Billboard\". Throughout her career, Stone has sold 15 million records worldwide, establishing herself as one of the best-selling soul artists of the 2000s, and the best-selling British artists of her time. Her first three albums have sold over 2,722,000 copies in the US, while her first two albums have sold over 2 million copies in the UK.\n",
      "\n",
      "title:Joss Stone\n",
      "\n",
      "url:https://en.wikipedia.org/wiki?curid=494770\n",
      "\n",
      "\n"
     ]
    }
   ],
   "source": [
    "query = \"Best colour in the world?\"\n",
    "keyword_search_results = keyword_search(query, results_lang='en')\n",
    "print_result(keyword_search_results)"
   ]
  }
 ],
 "metadata": {
  "kernelspec": {
   "display_name": "Python 3",
   "language": "python",
   "name": "python3"
  },
  "language_info": {
   "codemirror_mode": {
    "name": "ipython",
    "version": 3
   },
   "file_extension": ".py",
   "mimetype": "text/x-python",
   "name": "python",
   "nbconvert_exporter": "python",
   "pygments_lexer": "ipython3",
   "version": "3.9.12"
  },
  "orig_nbformat": 4
 },
 "nbformat": 4,
 "nbformat_minor": 2
}
